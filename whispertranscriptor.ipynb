{
  "nbformat": 4,
  "nbformat_minor": 0,
  "metadata": {
    "colab": {
      "provenance": [],
      "gpuType": "T4",
      "include_colab_link": true
    },
    "kernelspec": {
      "name": "python3",
      "display_name": "Python 3"
    },
    "language_info": {
      "name": "python"
    },
    "accelerator": "GPU"
  },
  "cells": [
    {
      "cell_type": "markdown",
      "metadata": {
        "id": "view-in-github",
        "colab_type": "text"
      },
      "source": [
        "<a href=\"https://colab.research.google.com/github/jodercuco/cuquette/blob/main/whispertranscriptor.ipynb\" target=\"_parent\"><img src=\"https://colab.research.google.com/assets/colab-badge.svg\" alt=\"Open In Colab\"/></a>"
      ]
    },
    {
      "cell_type": "markdown",
      "source": [
        "# Herramienta para transcribir y traducir videos"
      ],
      "metadata": {
        "id": "2QYj1xfOyW1D"
      }
    },
    {
      "cell_type": "markdown",
      "source": [
        "Bajar el video y el audio con https://ssyoutube.online/"
      ],
      "metadata": {
        "id": "NhR9SdRMr74m"
      }
    },
    {
      "cell_type": "markdown",
      "source": [
        "Después de descargar el video y el audio, arrastra el audio (mp3) a los ficheros de colab (carpeta de parte izquierda)"
      ],
      "metadata": {
        "id": "rOrU963cyhsS"
      }
    },
    {
      "cell_type": "code",
      "source": [
        "pip -q install git+https://github.com/openai/whisper.git"
      ],
      "metadata": {
        "colab": {
          "base_uri": "https://localhost:8080/"
        },
        "id": "0VlxUJfvEGt_",
        "outputId": "cf4a90b8-4a67-4e24-ba93-7b39bd06f476"
      },
      "execution_count": null,
      "outputs": [
        {
          "output_type": "stream",
          "name": "stdout",
          "text": [
            "  Installing build dependencies ... \u001b[?25l\u001b[?25hdone\n",
            "  Getting requirements to build wheel ... \u001b[?25l\u001b[?25hdone\n",
            "  Preparing metadata (pyproject.toml) ... \u001b[?25l\u001b[?25hdone\n"
          ]
        }
      ]
    },
    {
      "cell_type": "code",
      "source": [
        "import subprocess\n",
        "def tranducir_audio_con_whisper_spa(output_audio, carpeta_transcripcion_es):\n",
        "    comando = [\n",
        "        \"whisper\", output_audio, \"--task\", \"transcribe\",\n",
        "        \"--model\", \"large-v3\", \"--language\", \"Spanish\",\n",
        "        \"--verbose\", \"False\", \"--output_dir\", carpeta_transcripcion_es\n",
        "    ]\n",
        "\n",
        "    print(\"Transcribiendo en español con Whisper. Puede tardar...\")\n",
        "\n",
        "    # Ejecutar el comando y capturar la salida\n",
        "    resultado = subprocess.run(comando, capture_output=True, text=True)\n",
        "\n",
        "    # Verificar si hubo algún error y mostrar la salida\n",
        "    if resultado.returncode != 0:\n",
        "        print(\"Ocurrió un error al ejecutar el comando ffmpeg:\")\n",
        "        print(resultado.stderr)\n",
        "    else:\n",
        "        print(\"Completada con éxito la transcripcción con Whisper.\")\n",
        "        print(resultado.stdout)"
      ],
      "metadata": {
        "id": "sVQrR119EjwL"
      },
      "execution_count": null,
      "outputs": []
    },
    {
      "cell_type": "code",
      "execution_count": null,
      "metadata": {
        "id": "BT0yd9SX93fi"
      },
      "outputs": [],
      "source": [
        "import subprocess\n",
        "def transcribir_audio_con_whisper_spa(output_audio, carpeta_transcripcion_es):\n",
        "    comando = [\n",
        "        \"whisper\", output_audio, \"--task\", \"transcribe\",\n",
        "        \"--model\", \"turbo\", \"--language\", \"Spanish\",\n",
        "        \"--verbose\", \"False\", \"--output_dir\", carpeta_transcripcion_es\n",
        "    ]\n",
        "\n",
        "    print(\"Transcribiendo en español con Whisper. Puede tardar...\")\n",
        "\n",
        "    # Ejecutar el comando y capturar la salida\n",
        "    resultado = subprocess.run(comando, capture_output=True, text=True)\n",
        "\n",
        "    # Verificar si hubo algún error y mostrar la salida\n",
        "    if resultado.returncode != 0:\n",
        "        print(\"Ocurrió un error al ejecutar el comando ffmpeg:\")\n",
        "        print(resultado.stderr)\n",
        "    else:\n",
        "        print(\"Completada con éxito la transcripcción con Whisper.\")\n",
        "        print(resultado.stdout)"
      ]
    },
    {
      "cell_type": "markdown",
      "source": [
        "EJECUTA O BIEN LA CELDA DE TRANSCRIBIR PARA SOLO TRANSCRIBIR O LA CELDA DE TRADUCIR PARA TRADUCIR DE INGLÉS A ESPAÑOL"
      ],
      "metadata": {
        "id": "9CH3NMsux1fT"
      }
    },
    {
      "cell_type": "code",
      "source": [
        "transcribir_audio_con_whisper_spa(\"audio.mp3\", \"./\")"
      ],
      "metadata": {
        "id": "H1aiETyGD0Bi"
      },
      "execution_count": null,
      "outputs": []
    },
    {
      "cell_type": "code",
      "source": [
        "tranducir_audio_con_whisper_spa(\"audio.mp3\", \"./\")"
      ],
      "metadata": {
        "colab": {
          "base_uri": "https://localhost:8080/"
        },
        "id": "pWAhnI9GuctS",
        "outputId": "105e958c-6290-4c0f-a299-cc8a7a0407b6"
      },
      "execution_count": null,
      "outputs": [
        {
          "output_type": "stream",
          "name": "stdout",
          "text": [
            "Transcribiendo en español con Whisper. Puede tardar...\n",
            "Completada con éxito la transcripcción con Whisper.\n",
            "\n"
          ]
        }
      ]
    },
    {
      "cell_type": "markdown",
      "source": [
        "Una vez terminada la transcripción bája el fichero (en el lado izquierdo) y luego con VLC o cualquier otro reproductor de video inserta el fichero como pista de transcripción."
      ],
      "metadata": {
        "id": "fOv4xUb9xzc1"
      }
    }
  ]
}